{
 "cells": [
  {
   "cell_type": "markdown",
   "metadata": {},
   "source": [
    "# Install\n",
    "- Link: https://airflow.apache.org/docs/stable/installation.html\n",
    "\n",
    "Assuming Python 3.8.5:\n",
    "```bash\n",
    "pip3 install apache-airflow==1.10.12 --constraint \"https://raw.githubusercontent.com/apache/airflow/constraints-1.10.12/constraints-3.8.txt\"\n",
    "\n",
    "sudo apt-get install -y --no-install-recommends \\\n",
    "    freetds-bin \\\n",
    "    krb5-user \\\n",
    "    ldap-utils \\\n",
    "    libsasl2-2 \\\n",
    "    libsasl2-modules \\\n",
    "    libssl1.1 \\\n",
    "    locales  \\\n",
    "    lsb-release \\\n",
    "    sasl2-bin \\\n",
    "    sqlite3 \\\n",
    "    unixodbc\n",
    "    \n",
    "pip3 install apache-airflow[all]\n",
    "```"
   ]
  },
  {
   "cell_type": "markdown",
   "metadata": {},
   "source": [
    "```bash\n",
    "# initialize the database\n",
    "airflow initdb\n",
    "\n",
    "# start the web server, default port is 8080\n",
    "airflow webserver -p 8080\n",
    "```"
   ]
  },
  {
   "cell_type": "code",
   "execution_count": 2,
   "metadata": {},
   "outputs": [
    {
     "name": "stdout",
     "output_type": "stream",
     "text": [
      "/mnt/c/users/akira/documents/github/airflow-test\n"
     ]
    }
   ],
   "source": [
    "import os\n",
    "print(os.getcwd())"
   ]
  },
  {
   "cell_type": "code",
   "execution_count": 3,
   "metadata": {},
   "outputs": [],
   "source": [
    "os.chdir('/mnt/c/users/akira/documents/github/airflow-test')"
   ]
  },
  {
   "cell_type": "code",
   "execution_count": null,
   "metadata": {},
   "outputs": [],
   "source": []
  }
 ],
 "metadata": {
  "kernelspec": {
   "display_name": "Python 3",
   "language": "python",
   "name": "python3"
  },
  "language_info": {
   "codemirror_mode": {
    "name": "ipython",
    "version": 3
   },
   "file_extension": ".py",
   "mimetype": "text/x-python",
   "name": "python",
   "nbconvert_exporter": "python",
   "pygments_lexer": "ipython3",
   "version": "3.8.5"
  }
 },
 "nbformat": 4,
 "nbformat_minor": 4
}
