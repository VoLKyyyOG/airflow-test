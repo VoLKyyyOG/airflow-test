{
 "cells": [
  {
   "cell_type": "code",
   "execution_count": 1,
   "metadata": {
    "execution": {
     "iopub.execute_input": "2020-11-17T05:30:02.210721Z",
     "iopub.status.busy": "2020-11-17T05:30:02.210393Z",
     "iopub.status.idle": "2020-11-17T05:30:02.212588Z",
     "shell.execute_reply": "2020-11-17T05:30:02.212287Z"
    },
    "papermill": {
     "duration": 0.010237,
     "end_time": "2020-11-17T05:30:02.212708",
     "exception": false,
     "start_time": "2020-11-17T05:30:02.202471",
     "status": "completed"
    },
    "tags": [
     "parameters"
    ]
   },
   "outputs": [],
   "source": [
    "p1 = \"Hello World!\"\n",
    "p2 = \"default\""
   ]
  },
  {
   "cell_type": "code",
   "execution_count": 2,
   "metadata": {
    "execution": {
     "iopub.execute_input": "2020-11-17T05:30:02.224820Z",
     "iopub.status.busy": "2020-11-17T05:30:02.224520Z",
     "iopub.status.idle": "2020-11-17T05:30:02.364698Z",
     "shell.execute_reply": "2020-11-17T05:30:02.364439Z"
    },
    "papermill": {
     "duration": 0.146721,
     "end_time": "2020-11-17T05:30:02.364770",
     "exception": false,
     "start_time": "2020-11-17T05:30:02.218049",
     "status": "completed"
    },
    "tags": []
   },
   "outputs": [
    {
     "name": "stdout",
     "output_type": "stream",
     "text": [
      "Hello World!\n"
     ]
    }
   ],
   "source": [
    "import pandas as pd\n",
    "print(p1)"
   ]
  },
  {
   "cell_type": "code",
   "execution_count": null,
   "metadata": {
    "papermill": {
     "duration": 0.004688,
     "end_time": "2020-11-17T05:30:02.374510",
     "exception": false,
     "start_time": "2020-11-17T05:30:02.369822",
     "status": "completed"
    },
    "tags": []
   },
   "outputs": [],
   "source": []
  }
 ],
 "metadata": {
  "celltoolbar": "Tags",
  "kernelspec": {
   "display_name": "Python 3",
   "language": "python",
   "name": "python3"
  },
  "language_info": {
   "codemirror_mode": {
    "name": "ipython",
    "version": 3
   },
   "file_extension": ".py",
   "mimetype": "text/x-python",
   "name": "python",
   "nbconvert_exporter": "python",
   "pygments_lexer": "ipython3",
   "version": "3.8.5"
  },
  "papermill": {
   "default_parameters": {},
   "duration": 0.995229,
   "end_time": "2020-11-17T05:30:02.583731",
   "environment_variables": {},
   "exception": null,
   "input_path": "/mnt/c/users/akira/documents/github/airflow-test/print_msg.ipynb",
   "output_path": "/mnt/c/users/akira/documents/github/airflow-test/output/t1.ipynb",
   "parameters": {},
   "start_time": "2020-11-17T05:30:01.588502",
   "version": "2.2.2"
  }
 },
 "nbformat": 4,
 "nbformat_minor": 4
}