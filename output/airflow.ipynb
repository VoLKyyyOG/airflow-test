{
 "cells": [
  {
   "cell_type": "code",
   "execution_count": 1,
   "metadata": {
    "execution": {
     "iopub.execute_input": "2020-11-19T00:09:40.068918Z",
     "iopub.status.busy": "2020-11-19T00:09:40.068600Z",
     "iopub.status.idle": "2020-11-19T00:09:40.070885Z",
     "shell.execute_reply": "2020-11-19T00:09:40.070501Z"
    },
    "papermill": {
     "duration": 0.011049,
     "end_time": "2020-11-19T00:09:40.070992",
     "exception": false,
     "start_time": "2020-11-19T00:09:40.059943",
     "status": "completed"
    },
    "tags": [
     "parameters"
    ]
   },
   "outputs": [],
   "source": [
    "p1 = \"Hello World!\""
   ]
  },
  {
   "cell_type": "code",
   "execution_count": 2,
   "metadata": {
    "execution": {
     "iopub.execute_input": "2020-11-19T00:09:40.083024Z",
     "iopub.status.busy": "2020-11-19T00:09:40.082699Z",
     "iopub.status.idle": "2020-11-19T00:09:40.084696Z",
     "shell.execute_reply": "2020-11-19T00:09:40.084440Z"
    },
    "papermill": {
     "duration": 0.007709,
     "end_time": "2020-11-19T00:09:40.084848",
     "exception": false,
     "start_time": "2020-11-19T00:09:40.077139",
     "status": "completed"
    },
    "tags": [
     "injected-parameters"
    ]
   },
   "outputs": [],
   "source": [
    "# Parameters\n",
    "p1 = \"Called through airflow\"\n"
   ]
  },
  {
   "cell_type": "code",
   "execution_count": 3,
   "metadata": {
    "execution": {
     "iopub.execute_input": "2020-11-19T00:09:40.096069Z",
     "iopub.status.busy": "2020-11-19T00:09:40.095746Z",
     "iopub.status.idle": "2020-11-19T00:09:40.098318Z",
     "shell.execute_reply": "2020-11-19T00:09:40.098007Z"
    },
    "papermill": {
     "duration": 0.008945,
     "end_time": "2020-11-19T00:09:40.098391",
     "exception": false,
     "start_time": "2020-11-19T00:09:40.089446",
     "status": "completed"
    },
    "tags": []
   },
   "outputs": [
    {
     "name": "stdout",
     "output_type": "stream",
     "text": [
      "Called through airflow\n"
     ]
    }
   ],
   "source": [
    "print(p1)"
   ]
  }
 ],
 "metadata": {
  "celltoolbar": "Tags",
  "kernelspec": {
   "display_name": "Python 3",
   "language": "python",
   "name": "python3"
  },
  "language_info": {
   "codemirror_mode": {
    "name": "ipython",
    "version": 3
   },
   "file_extension": ".py",
   "mimetype": "text/x-python",
   "name": "python",
   "nbconvert_exporter": "python",
   "pygments_lexer": "ipython3",
   "version": "3.8.5"
  },
  "papermill": {
   "default_parameters": {},
   "duration": 1.086302,
   "end_time": "2020-11-19T00:09:40.309355",
   "environment_variables": {},
   "exception": null,
   "input_path": "/mnt/c/users/akira/documents/github/airflow-test/print_msg.ipynb",
   "output_path": "/mnt/c/users/akira/documents/github/airflow-test/output/airflow.ipynb",
   "parameters": {
    "p1": "Called through airflow"
   },
   "start_time": "2020-11-19T00:09:39.223053",
   "version": "2.2.2"
  }
 },
 "nbformat": 4,
 "nbformat_minor": 4
}